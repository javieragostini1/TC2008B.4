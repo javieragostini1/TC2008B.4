{
  "nbformat": 4,
  "nbformat_minor": 0,
  "metadata": {
    "colab": {
      "name": "M1. Actividad",
      "provenance": [],
      "collapsed_sections": []
    },
    "kernelspec": {
      "name": "python3",
      "display_name": "Python 3"
    },
    "language_info": {
      "name": "python"
    }
  },
  "cells": [
    {
      "cell_type": "markdown",
      "metadata": {
        "id": "ujUtmv9gA3q5"
      },
      "source": [
        "# M1. Actividad\n",
        "Alumno: Javier E. Agostini Castilla - A00827216\n",
        "\n",
        "**Instrucciones**\n",
        "\n",
        "Realizar una simulación en donde, a partir de variables iniciales como dimensiones de la habitación, porcentaje de celdas sucias y agentes limpiadores, con el paso del tiempo los agentes limpiadores comiencen a moverse por la habitación limpiando celdas sucias.\n"
      ]
    },
    {
      "cell_type": "markdown",
      "metadata": {
        "id": "_nDoyjLQBRLj"
      },
      "source": [
        "**Instalación de Librerias**"
      ]
    },
    {
      "cell_type": "code",
      "metadata": {
        "id": "dPx9jQ3Y5GJL",
        "colab": {
          "base_uri": "https://localhost:8080/"
        },
        "outputId": "3684fe15-beab-465f-b2ae-506b90a6a040"
      },
      "source": [
        "!pip3 install mesa"
      ],
      "execution_count": 81,
      "outputs": [
        {
          "output_type": "stream",
          "text": [
            "Requirement already satisfied: mesa in /usr/local/lib/python3.7/dist-packages (0.8.9)\n",
            "Requirement already satisfied: pandas in /usr/local/lib/python3.7/dist-packages (from mesa) (1.1.5)\n",
            "Requirement already satisfied: numpy in /usr/local/lib/python3.7/dist-packages (from mesa) (1.19.5)\n",
            "Requirement already satisfied: networkx in /usr/local/lib/python3.7/dist-packages (from mesa) (2.6.2)\n",
            "Requirement already satisfied: tqdm in /usr/local/lib/python3.7/dist-packages (from mesa) (4.62.0)\n",
            "Requirement already satisfied: cookiecutter in /usr/local/lib/python3.7/dist-packages (from mesa) (1.7.3)\n",
            "Requirement already satisfied: click in /usr/local/lib/python3.7/dist-packages (from mesa) (7.1.2)\n",
            "Requirement already satisfied: tornado in /usr/local/lib/python3.7/dist-packages (from mesa) (5.1.1)\n",
            "Requirement already satisfied: Jinja2<4.0.0,>=2.7 in /usr/local/lib/python3.7/dist-packages (from cookiecutter->mesa) (2.11.3)\n",
            "Requirement already satisfied: six>=1.10 in /usr/local/lib/python3.7/dist-packages (from cookiecutter->mesa) (1.15.0)\n",
            "Requirement already satisfied: jinja2-time>=0.2.0 in /usr/local/lib/python3.7/dist-packages (from cookiecutter->mesa) (0.2.0)\n",
            "Requirement already satisfied: binaryornot>=0.4.4 in /usr/local/lib/python3.7/dist-packages (from cookiecutter->mesa) (0.4.4)\n",
            "Requirement already satisfied: requests>=2.23.0 in /usr/local/lib/python3.7/dist-packages (from cookiecutter->mesa) (2.23.0)\n",
            "Requirement already satisfied: poyo>=0.5.0 in /usr/local/lib/python3.7/dist-packages (from cookiecutter->mesa) (0.5.0)\n",
            "Requirement already satisfied: python-slugify>=4.0.0 in /usr/local/lib/python3.7/dist-packages (from cookiecutter->mesa) (5.0.2)\n",
            "Requirement already satisfied: chardet>=3.0.2 in /usr/local/lib/python3.7/dist-packages (from binaryornot>=0.4.4->cookiecutter->mesa) (3.0.4)\n",
            "Requirement already satisfied: MarkupSafe>=0.23 in /usr/local/lib/python3.7/dist-packages (from Jinja2<4.0.0,>=2.7->cookiecutter->mesa) (2.0.1)\n",
            "Requirement already satisfied: arrow in /usr/local/lib/python3.7/dist-packages (from jinja2-time>=0.2.0->cookiecutter->mesa) (1.1.1)\n",
            "Requirement already satisfied: text-unidecode>=1.3 in /usr/local/lib/python3.7/dist-packages (from python-slugify>=4.0.0->cookiecutter->mesa) (1.3)\n",
            "Requirement already satisfied: idna<3,>=2.5 in /usr/local/lib/python3.7/dist-packages (from requests>=2.23.0->cookiecutter->mesa) (2.10)\n",
            "Requirement already satisfied: certifi>=2017.4.17 in /usr/local/lib/python3.7/dist-packages (from requests>=2.23.0->cookiecutter->mesa) (2021.5.30)\n",
            "Requirement already satisfied: urllib3!=1.25.0,!=1.25.1,<1.26,>=1.21.1 in /usr/local/lib/python3.7/dist-packages (from requests>=2.23.0->cookiecutter->mesa) (1.24.3)\n",
            "Requirement already satisfied: python-dateutil>=2.7.0 in /usr/local/lib/python3.7/dist-packages (from arrow->jinja2-time>=0.2.0->cookiecutter->mesa) (2.8.2)\n",
            "Requirement already satisfied: typing-extensions in /usr/local/lib/python3.7/dist-packages (from arrow->jinja2-time>=0.2.0->cookiecutter->mesa) (3.7.4.3)\n",
            "Requirement already satisfied: pytz>=2017.2 in /usr/local/lib/python3.7/dist-packages (from pandas->mesa) (2018.9)\n"
          ],
          "name": "stdout"
        }
      ]
    },
    {
      "cell_type": "code",
      "metadata": {
        "id": "ECrNVe305K1A"
      },
      "source": [
        "# La clase `Model` se hace cargo de los atributos a nivel del modelo, maneja los agentes. \n",
        "# Cada modelo puede contener múltiples agentes y todos ellos son instancias de la clase `Agent`.\n",
        "from mesa import Agent, Model \n",
        "\n",
        "# Debido a que necesitamos un solo agente por celda elegimos `SingleGrid` que fuerza un solo objeto por celda.\n",
        "from mesa.space import MultiGrid\n",
        "from mesa.space import SingleGrid\n",
        "\n",
        "# Con `SimultaneousActivation` hacemos que todos los agentes se activen de manera simultanea.\n",
        "from mesa.time import SimultaneousActivation\n",
        "\n",
        "# Vamos a hacer uso de `DataCollector` para obtener el grid completo cada paso (o generación) y lo usaremos para graficarlo.\n",
        "from mesa.datacollection import DataCollector\n",
        "\n",
        "from mesa.visualization.modules import CanvasGrid\n",
        "from mesa.visualization.ModularVisualization import ModularServer\n",
        "\n",
        "from mesa.space import ContinuousSpace\n",
        "\n",
        "\n",
        "# mathplotlib lo usamos para graficar/visualizar como evoluciona el autómata celular.\n",
        "%matplotlib inline\n",
        "import matplotlib\n",
        "import matplotlib.pyplot as plt\n",
        "import matplotlib.animation as animation\n",
        "plt.rcParams[\"animation.html\"] = \"jshtml\"\n",
        "matplotlib.rcParams['animation.embed_limit'] = 2**128\n",
        "\n",
        "# Definimos los siguientes paquetes para manejar valores númericos.\n",
        "import numpy as np\n",
        "import pandas as pd\n",
        "\n",
        "# Definimos otros paquetes que vamos a usar para medir el tiempo de ejecución de nuestro algoritmo.\n",
        "import time\n",
        "import datetime\n",
        "import random"
      ],
      "execution_count": 82,
      "outputs": []
    },
    {
      "cell_type": "markdown",
      "metadata": {
        "id": "dpx3V64ABVtN"
      },
      "source": [
        "**Declaración de Variables**"
      ]
    },
    {
      "cell_type": "code",
      "metadata": {
        "id": "XNWaK4VnBY6j"
      },
      "source": [
        "# Dimensiones de la habitacion\n",
        "M = 8\n",
        "N = 8\n",
        "\n",
        "# Cantidad de agentes (limpiadores)\n",
        "agent_qty = 10\n",
        "\n",
        "# Porcentaje de celdas sucias (0-1)\n",
        "dirty_cell_percentage = 0.5\n",
        "\n",
        "# Tiempo maximo de ejecucion en segundos\n",
        "max_exe_time = 5"
      ],
      "execution_count": 101,
      "outputs": []
    },
    {
      "cell_type": "markdown",
      "metadata": {
        "id": "rvUZPFoCBhRl"
      },
      "source": [
        "**Desarrollo de Clases de Modelo y Agentes**"
      ]
    },
    {
      "cell_type": "code",
      "metadata": {
        "id": "2jricsOr8wju"
      },
      "source": [
        "def get_grid(model):\n",
        "    '''\n",
        "    Esta es una función auxiliar que nos permite guardar el grid para cada uno de los agentes.\n",
        "    param model: El modelo del cual optener el grid.\n",
        "    return una matriz con la información del grid del agente.\n",
        "    '''\n",
        "    grid = np.zeros((model.grid.width, model.grid.height))\n",
        "    for cell in model.grid.coord_iter():\n",
        "        cell_content, x, y = cell\n",
        "        for content in cell_content:\n",
        "            if isinstance(content, Cleaner):\n",
        "                grid[x][y] = 2\n",
        "            else:\n",
        "                grid[x][y] = content.live\n",
        "    return grid\n",
        "\n",
        "class Floor(Agent):\n",
        "\n",
        "    def __init__(self, unique_id, model):\n",
        "        super().__init__(unique_id, model)\n",
        "        if np.random.choice(100) <= dirty_cell_percentage * 100:\n",
        "            self.live = 1\n",
        "        else:\n",
        "            self.live = 0\n",
        "\n",
        "class Cleaner(Agent):\n",
        "\n",
        "    def __init__(self, unique_id, model):\n",
        "        super().__init__(unique_id, model)\n",
        "\n",
        "    def move(self):\n",
        "        possible_steps = self.model.grid.get_neighborhood(\n",
        "            self.pos,\n",
        "            moore=True,\n",
        "            include_center=False)\n",
        "                \n",
        "        new_position = self.random.choice(possible_steps)\n",
        "        self.model.grid.move_agent(self,new_position)\n",
        "        self.step\n",
        "\n",
        "    def clean(self):\n",
        "        this_cell = self.model.grid.get_cell_list_contents([self.pos])\n",
        "        if this_cell[0].live:\n",
        "            this_cell[0].live = 0\n",
        "            return True\n",
        "        else:\n",
        "            return False\n",
        "\n",
        "    def step(self):\n",
        "        if not self.clean():\n",
        "            self.move()\n",
        "  \n",
        "class Room(Model):\n",
        "  def __init__(self, m, n, agent_qty, dirty_cell_percentage, max_exe_time):\n",
        "    self.agent_qty = m * n\n",
        "    self.dirty_cell_percentage = dirty_cell_percentage\n",
        "    self.clean_cell_percentage = 1 - dirty_cell_percentage\n",
        "    self.start_time = time.time()\n",
        "    self.max_exe_time = max_exe_time\n",
        "    self.exe_time = None\n",
        "    self.grid = MultiGrid(m, n, True)\n",
        "    self.schedule = SimultaneousActivation(self)\n",
        "    #self.running = True\n",
        "\n",
        "    for (content, x, y) in self.grid.coord_iter():\n",
        "            floor = Floor((x, y), self)\n",
        "            self.grid.place_agent(floor, (x, y))\n",
        "            self.schedule.add(floor)\n",
        "        \n",
        "        \n",
        "    for i in range(agent_qty):\n",
        "            cleaner = Cleaner(i,self)\n",
        "            self.grid.place_agent(cleaner, (1, 1))\n",
        "            self.schedule.add(cleaner)\n",
        "\n",
        "    self.datacollector = DataCollector(\n",
        "            model_reporters={\"Grid\": get_grid},\n",
        "            agent_reporters={'Move': lambda a: getattr(a, 'move', None)}\n",
        "    )\n",
        "\n",
        "  def count_dirty(self):\n",
        "        count = 0\n",
        "        for cell in self.grid.coord_iter():\n",
        "            cell_content, x, y = cell\n",
        "            if cell_content[0].live:\n",
        "                count+=1\n",
        "        return count\n",
        "\n",
        "  def all_cells_clean(self):\n",
        "      clean_cells = 0\n",
        "      for cell in self.grid.coord_iter():\n",
        "        cell_content, x, y = cell\n",
        "        if cell_content[0].live:\n",
        "          clean_cells = clean_cells + 1\n",
        "      #return clean_cells\n",
        "      \n",
        "      self.clean_cell_percentage = clean_cells / (self.grid.width * self.grid.height)\n",
        "      if self.clean_cell_percentage == 1:\n",
        "        return True\n",
        "      else: \n",
        "        return False\n",
        "\n",
        "            \n",
        "  def step(self):\n",
        "        self.datacollector.collect(self)\n",
        "        self.schedule.step()\n",
        "\n",
        "\n",
        "\n",
        "\n",
        "  #   # Posicionar celdas sucias de forma aleatoria\n",
        "  #   celdas_sucias = int((m * n) * por_celdas_sucias)\n",
        "  #   lista_celdas_vacias = list(self.grid.empties)\n",
        "  #   for celdas in range(celdas_sucias):\n",
        "  #     celda_vacia = random.choice(lista_celdas_vacias)\n",
        "  #     piso = Piso(celda_vacia, self)\n",
        "  #     piso.estado = piso.SUCIO\n",
        "  #     self.grid.place_agent(piso, celda_vacia)\n",
        "  #     self.schedule.add(piso)\n",
        "  #     lista_celdas_vacias.remove(celda_vacia)\n",
        "\n",
        "  #   # Posicionar celdas limpias\n",
        "  #   lista_celdas_vacias = kust(self.grid.empties)\n",
        "  #   for celdas in lista_celdas_vacias:\n",
        "  #     piso = Piso(celdas, self)\n",
        "  #     self.grid.place_agent(piso, celdas)\n",
        "  #     self.schedule.add(piso)\n",
        "    \n",
        "  #   # Posicionar agentes aspiradoras\n",
        "  #   for i in range(num_agentes):\n",
        "  #     aspiradora = Aspiradora(i, self)\n",
        "  #     self.grid.place_agent (aspiradora, (1,1))\n",
        "  #     self.schedule.add(aspiradora)\n",
        "    \n",
        "  #   self.colectordatos = DataCollector(\n",
        "  #       model_reporters = {'Habitacion': obtener_habitacion},\n",
        "  #       agent_reporters = {'Movimientos': lambda a: getattr(a, 'movimientos', None)}\n",
        "  #   )\n",
        "  \n",
        "  # def todasceldaslimpias(self):\n",
        "  #   celdas_limpias = 0\n",
        "  #   for celda in self.grid.coord_iter():\n",
        "  #     contenido_Celda, x, y = celda\n",
        "  #     for contenido in contenido_celda:\n",
        "  #       if isinstance(contenido, Piso) and contenido.estado == contenido.LIMPIO:\n",
        "  #         celdas_limpias = celdas_limpias + 1\n",
        "    \n",
        "  #   self.por_celdas_limpias = celdas_limpias / (self.grid.width * self.grid.height)\n",
        "  #   if self.por_celdas_limpias == 1:\n",
        "  #     return True\n",
        "  #   else: \n",
        "  #     return False\n",
        "  \n",
        "  # def step(self):\n",
        "  #   if (time.time() - self.tiempo_inicio) < self.tiempo_limite or not modelo.todasceldaslimpias():\n",
        "  #     self.colectordatos.collect(self)\n",
        "  #     self.schedule.step()\n",
        "  #   else:\n",
        "  #     self.tiempo_ejecucion = str(datetime.timedelta(seconds = (time.time() - self.tiempo_inicio)))\n",
        "  #     self.running = False\n",
        "\n",
        "# class GameLifeAgent(Agent):\n",
        "#     '''\n",
        "#     Representa a un agente o una celda con estado vivo (1) o muerto (0)\n",
        "#     '''\n",
        "#     def __init__(self, unique_id, model):\n",
        "#         '''\n",
        "#         Crea un agente con estado inicial aleatorio de 0 o 1, también se le asigna un identificador \n",
        "#         formado por una tupla (x,y). También se define un nuevo estado cuyo valor será definido por las \n",
        "#         reglas mencionadas arriba.\n",
        "#         '''\n",
        "#         super().__init__(unique_id, model)\n",
        "#         self.live = np.random.choice([0,1])\n",
        "#         self.next_state = None\n",
        "    \n",
        "#     def step(self):\n",
        "#         '''\n",
        "#         Este método es el que calcula si la celda vivirá o morirá dependiendo el estado de sus vecinos.\n",
        "#         El estado live de la siguiente generación no se cambia aquí se almacena en self.next_state. La idea \n",
        "#         es esperar a que todos los agentes calculen su estado y una vez hecho eso, ya hacer el cambio.\n",
        "#         '''\n",
        "#         live_neighbours = 0   \n",
        "        \n",
        "#         neighbours = self.model.grid.get_neighbors(\n",
        "#             self.pos,\n",
        "#             moore=True,\n",
        "#             include_center=False)\n",
        "        \n",
        "#         for neighbor in neighbours:\n",
        "#             live_neighbours = live_neighbours + neighbor.live\n",
        "        \n",
        "#         self.next_state = self.live\n",
        "#         if self.next_state == 1:\n",
        "#             if live_neighbours < 2 or live_neighbours > 3:\n",
        "#                 self.next_state = 0\n",
        "#         else:\n",
        "#             if live_neighbours == 3:\n",
        "#                 self.next_state = 1\n",
        "    \n",
        "#     def advance(self):\n",
        "#         '''\n",
        "#         Define el nuevo estado calculado del método step.\n",
        "#         '''\n",
        "#         self.live = self.next_state\n",
        "            \n",
        "# class GameLifeModel(Model):\n",
        "#     '''\n",
        "#     Define el modelo del juego de la vida.\n",
        "#     '''\n",
        "#     def __init__(self, width, height):\n",
        "#         self.num_agents = width * height\n",
        "#         self.grid = MultiGrid(width, height, True)\n",
        "#         self.schedule = SimultaneousActivation(self)\n",
        "        \n",
        "#         for (content, x, y) in self.grid.coord_iter():\n",
        "#             a = GameLifeAgent((x, y), self)\n",
        "#             self.grid.place_agent(a, (x, y))\n",
        "#             self.schedule.add(a)\n",
        "        \n",
        "#         # Aquí definimos con colector para obtener el grid completo.\n",
        "#         self.datacollector = DataCollector(\n",
        "#             model_reporters={\"Grid\": get_grid})\n",
        "    \n",
        "#     def step(self):\n",
        "#         '''\n",
        "#         En cada paso el colector tomará la información que se definió y almacenará el grid para luego graficarlo.\n",
        "#         '''\n",
        "#         self.datacollector.collect(self)\n",
        "#         self.schedule.step()"
      ],
      "execution_count": 94,
      "outputs": []
    },
    {
      "cell_type": "markdown",
      "metadata": {
        "id": "z6NRRnd6CDFE"
      },
      "source": [
        "**Ejecución**"
      ]
    },
    {
      "cell_type": "code",
      "metadata": {
        "id": "TtUr3QZdB1hC",
        "colab": {
          "base_uri": "https://localhost:8080/"
        },
        "outputId": "17af3bdd-92b9-48a4-cf46-3916adbd8fa0"
      },
      "source": [
        "start_time = time.time()\n",
        "#tiempo_inicio = str(datetime.timedelta(seconds = max_exe_time))\n",
        "model = Room(M, N, agent_qty, dirty_cell_percentage, max_exe_time)\n",
        "\n",
        "steps = 0\n",
        "while ((time.time() - start_time) < max_exe_time and not model.all_cells_clean()):\n",
        "  model.step()\n",
        "  steps += 1\n",
        "\n",
        "exe_time = str(datetime.timedelta(seconds = (time.time() - start_time)))\n",
        "\n",
        "print('Tiempo de ejecución:', exe_time)\n",
        "print('Pasos tomados: ', steps)\n",
        "print('Porcentaje de celdas limpias: ', (model.agent_qty - model.all_cells_clean()) / model.agent_qty * 100)"
      ],
      "execution_count": 102,
      "outputs": [
        {
          "output_type": "stream",
          "text": [
            "Tiempo de ejecución: 0:00:06.153081\n",
            "Pasos tomados:  9762\n",
            "Porcentaje de celdas limpias:  100.0\n"
          ],
          "name": "stdout"
        }
      ]
    },
    {
      "cell_type": "markdown",
      "metadata": {
        "id": "BTNbEhY9CM65"
      },
      "source": [
        "**Visualización**"
      ]
    },
    {
      "cell_type": "code",
      "metadata": {
        "id": "iZmYGlCE85Mm"
      },
      "source": [
        "all_grid = model.datacollector.get_model_vars_dataframe()"
      ],
      "execution_count": 86,
      "outputs": []
    },
    {
      "cell_type": "code",
      "metadata": {
        "id": "iXAMjt9i9UpL"
      },
      "source": [
        "%%capture\n",
        "\n",
        "fig, axs = plt.subplots(figsize=(7,7))\n",
        "axs.set_xticks([])\n",
        "axs.set_yticks([])\n",
        "patch = plt.imshow(all_grid.iloc[0][0], cmap='Reds')\n",
        "\n",
        "def animate(i):\n",
        "    patch.set_data(all_grid.iloc[i][0])\n",
        "    \n",
        "anim = animation.FuncAnimation(fig, animate, frames=len(all_grid))"
      ],
      "execution_count": 87,
      "outputs": []
    },
    {
      "cell_type": "code",
      "metadata": {
        "id": "x6y1CqAT9Won"
      },
      "source": [
        "anim"
      ],
      "execution_count": null,
      "outputs": []
    },
    {
      "cell_type": "markdown",
      "metadata": {
        "id": "HRRO5DN2ENCC"
      },
      "source": [
        "**Conclusión**"
      ]
    },
    {
      "cell_type": "markdown",
      "metadata": {
        "id": "RWJRG5KYOgLS"
      },
      "source": [
        "A pesar de que se me hizo compleja la actividad, considero que aprendí mucho sobre agentes y practiqué mis habilidades en Python. \n",
        "\n",
        "Pude observar que, al aumentar la cantidad de agentes, la cantidad de pasos necesarios para limpiar la habitación completamente, así como el tiempo de ejecución se disminuyen considerablemente. Es por eso que, simuladores como este, desarrollados en base a sistemas reales, permiten que las personas puedan experimentar y entender diversas situaciones y como ciertas acciones afectan el resultado final. \n",
        "\n",
        "Es decir, si se tratara de un negocio, podríamos graficar el impacto de la cantidad de agentes y los pasos o tiempo necesario para limpiar la habitación y encontrar la cantidad óptima de agentes considerando presupuesto u otros factores."
      ]
    }
  ]
}